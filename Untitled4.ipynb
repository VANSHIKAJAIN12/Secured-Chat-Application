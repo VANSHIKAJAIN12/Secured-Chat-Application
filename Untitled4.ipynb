{
  "nbformat": 4,
  "nbformat_minor": 0,
  "metadata": {
    "colab": {
      "provenance": [],
      "authorship_tag": "ABX9TyO/XH2dhmw6NmCMAYe6ugg4",
      "include_colab_link": true
    },
    "kernelspec": {
      "name": "python3",
      "display_name": "Python 3"
    },
    "language_info": {
      "name": "python"
    }
  },
  "cells": [
    {
      "cell_type": "markdown",
      "metadata": {
        "id": "view-in-github",
        "colab_type": "text"
      },
      "source": [
        "<a href=\"https://colab.research.google.com/github/VANSHIKAJAIN12/Secured-Chat-Application/blob/main/Untitled4.ipynb\" target=\"_parent\"><img src=\"https://colab.research.google.com/assets/colab-badge.svg\" alt=\"Open In Colab\"/></a>"
      ]
    },
    {
      "cell_type": "code",
      "execution_count": 3,
      "metadata": {
        "colab": {
          "base_uri": "https://localhost:8080/"
        },
        "id": "IbCUObRx3JYW",
        "outputId": "14721dd0-b9ae-41b8-8cd6-fa43b719c89b"
      },
      "outputs": [
        {
          "output_type": "stream",
          "name": "stdout",
          "text": [
            "    User_ID  Message_Length  Msg_Frequency  Response_Time Sentiment Keywords  \\\n",
            "0  User_001             540            115              4  Negative     Free   \n",
            "1  User_002             155             15             93   Neutral     Help   \n",
            "2  User_003             104              4            277   Neutral   Thanks   \n",
            "3  User_004             192             15            233  Negative      Buy   \n",
            "4  User_005             167             15            188  Positive      Buy   \n",
            "\n",
            "     Label  \n",
            "0  Anomaly  \n",
            "1   Normal  \n",
            "2   Normal  \n",
            "3   Normal  \n",
            "4   Normal  \n"
          ]
        }
      ],
      "source": [
        "import numpy as np\n",
        "import pandas as pd\n",
        "import random\n",
        "\n",
        "# Function to generate sample data\n",
        "def generate_sample_data(num_users=1000):\n",
        "    data = []\n",
        "    for i in range(num_users):\n",
        "        message_length = np.random.randint(10, 200)\n",
        "        msg_frequency = np.random.randint(1, 20)  # messages per hour\n",
        "        response_time = np.random.randint(5, 300)  # response time in seconds\n",
        "        sentiment = random.choice(['Positive', 'Neutral', 'Negative'])\n",
        "        keywords = random.choice(['Normal', 'Help', 'Thanks', 'Buy', 'Free'])\n",
        "        label = 'Normal'\n",
        "\n",
        "        # Introduce anomalies for some users\n",
        "        if random.random() < 0.1:  # 10% anomalies\n",
        "            message_length = np.random.randint(200, 1000)\n",
        "            msg_frequency = np.random.randint(50, 200)\n",
        "            response_time = np.random.randint(1, 5)\n",
        "            sentiment = random.choice(['Negative', 'Neutral'])\n",
        "            keywords = random.choice(['Spam', 'Hate', 'Free', 'Buy'])\n",
        "            label = 'Anomaly'\n",
        "\n",
        "        data.append({\n",
        "            'User_ID': f'User_{i+1:03d}',\n",
        "            'Message_Length': message_length,\n",
        "            'Msg_Frequency': msg_frequency,\n",
        "            'Response_Time': response_time,\n",
        "            'Sentiment': sentiment,\n",
        "            'Keywords': keywords,\n",
        "            'Label': label\n",
        "        })\n",
        "\n",
        "    return pd.DataFrame(data)\n",
        "\n",
        "# Create dataset\n",
        "dataset = generate_sample_data()\n",
        "\n",
        "# Display the dataset\n",
        "print(dataset.head())\n",
        "\n",
        "# Save to CSV\n",
        "dataset.to_csv('chat_anomaly_detection_dataset.csv', index=False)\n"
      ]
    },
    {
      "cell_type": "markdown",
      "source": [],
      "metadata": {
        "id": "B2UwMvzfOpyb"
      }
    },
    {
      "cell_type": "code",
      "source": [
        "import numpy as np\n",
        "import pandas as pd\n",
        "import random\n",
        "\n",
        "# Generate sample data\n",
        "def generate_sample_data(num_users=100):\n",
        "    data = []\n",
        "    for i in range(num_users):\n",
        "        message_length = np.random.randint(10, 200)\n",
        "        msg_frequency = np.random.randint(1, 20)\n",
        "        response_time = np.random.randint(5, 300)\n",
        "        sentiment = random.choice(['Positive', 'Neutral', 'Negative'])\n",
        "        keywords = random.choice(['Normal', 'Help', 'Thanks', 'Buy', 'Free'])\n",
        "        label = 'Normal'\n",
        "\n",
        "        if random.random() < 0.1:  # 10% anomalies\n",
        "            message_length = np.random.randint(200, 1000)\n",
        "            msg_frequency = np.random.randint(50, 200)\n",
        "            response_time = np.random.randint(1, 5)\n",
        "            sentiment = random.choice(['Negative', 'Neutral'])\n",
        "            keywords = random.choice(['Spam', 'Hate', 'Free', 'Buy'])\n",
        "            label = 'Anomaly'\n",
        "\n",
        "        data.append({\n",
        "            'User_ID': f'User_{i+1:03d}',\n",
        "            'Message_Length': message_length,\n",
        "            'Msg_Frequency': msg_frequency,\n",
        "            'Response_Time': response_time,\n",
        "            'Sentiment': sentiment,\n",
        "            'Keywords': keywords,\n",
        "            'Label': label\n",
        "        })\n",
        "\n",
        "    return pd.DataFrame(data)\n",
        "\n",
        "# Create dataset\n",
        "dataset = generate_sample_data()\n",
        "\n",
        "# Normalize the features\n",
        "def normalize_column(column):\n",
        "    min_val = column.min()\n",
        "    max_val = column.max()\n",
        "    return (column - min_val) / (max_val - min_val)\n",
        "\n",
        "dataset['Message_Length'] = normalize_column(dataset['Message_Length'])\n",
        "dataset['Msg_Frequency'] = normalize_column(dataset['Msg_Frequency'])\n",
        "dataset['Response_Time'] = normalize_column(dataset['Response_Time'])\n",
        "\n",
        "# Euclidean distance function\n",
        "def euclidean_distance(point1, point2):\n",
        "    return np.sqrt(np.sum((point1 - point2) ** 2))\n",
        "\n",
        "# KNN function\n",
        "def knn(data, new_point, k=3):\n",
        "    distances = []\n",
        "    for index, row in data.iterrows():\n",
        "        distance = euclidean_distance(row[['Message_Length', 'Msg_Frequency', 'Response_Time']], new_point)\n",
        "        distances.append((distance, row['Label']))\n",
        "\n",
        "    distances.sort(key=lambda x: x[0])\n",
        "    nearest_neighbors = distances[:k]\n",
        "\n",
        "    normal_count = sum(1 for neighbor in nearest_neighbors if neighbor[1] == 'Normal')\n",
        "    anomaly_count = sum(1 for neighbor in nearest_neighbors if neighbor[1] == 'Anomaly')\n",
        "\n",
        "    return 'Normal' if normal_count > anomaly_count else 'Anomaly'\n",
        "\n",
        "# Get user input\n",
        "message_length = float(input(\"Enter message length: \"))\n",
        "msg_frequency = float(input(\"Enter message frequency (messages per hour): \"))\n",
        "response_time = float(input(\"Enter response time (in seconds): \"))\n",
        "\n",
        "# Normalize the input features\n",
        "message_length = (message_length - dataset['Message_Length'].min()) / (dataset['Message_Length'].max() - dataset['Message_Length'].min())\n",
        "msg_frequency = (msg_frequency - dataset['Msg_Frequency'].min()) / (dataset['Msg_Frequency'].max() - dataset['Msg_Frequency'].min())\n",
        "response_time = (response_time - dataset['Response_Time'].min()) / (dataset['Response_Time'].max() - dataset['Response_Time'].min())\n",
        "\n",
        "new_user = np.array([message_length, msg_frequency, response_time])\n",
        "\n",
        "# Classify the new user\n",
        "classification = knn(dataset, new_user)\n",
        "print(f\"The new user is classified as: {classification}\")\n"
      ],
      "metadata": {
        "id": "A7_9x6Q2OrAr"
      },
      "execution_count": null,
      "outputs": []
    }
  ]
}